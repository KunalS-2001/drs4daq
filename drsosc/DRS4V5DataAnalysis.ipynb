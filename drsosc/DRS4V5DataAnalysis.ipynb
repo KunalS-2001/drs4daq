{
 "cells": [
  {
   "cell_type": "code",
   "execution_count": 2,
   "metadata": {},
   "outputs": [],
   "source": [
    "%matplotlib inline\n",
    "import numpy as np\n",
    "from matplotlib import pyplot as plt\n",
    "import drs4lib as drs\n",
    "import time"
   ]
  },
  {
   "cell_type": "markdown",
   "metadata": {},
   "source": [
    "## **Read Data**"
   ]
  },
  {
   "cell_type": "code",
   "execution_count": 9,
   "metadata": {},
   "outputs": [
    {
     "name": "stdout",
     "output_type": "stream",
     "text": [
      "(12, ' MB occupied')\n",
      "time elapsed  =  1.166129\n"
     ]
    }
   ],
   "source": [
    "tic=time.clock()\n",
    "fname=\"../data/pedrun1.dat\"\n",
    "wd=drs.get_events(fname,4000,4200)\n",
    "toc=time.clock()\n",
    "print \"time elapsed  = \",toc-tic"
   ]
  },
  {
   "cell_type": "markdown",
   "metadata": {},
   "source": [
    "## **Plot Event**"
   ]
  },
  {
   "cell_type": "code",
   "execution_count": 10,
   "metadata": {},
   "outputs": [
    {
     "data": {
      "image/png": "[encoded data removed]",
      "text/plain": [
       "<Figure size 432x288 with 1 Axes>"
      ]
     },
     "metadata": {
      "needs_background": "light"
     },
     "output_type": "display_data"
    }
   ],
   "source": [
    "eventID=0\n",
    "end=-1\n",
    "start=-512 #end-100\n",
    "for eventID in range(2):\n",
    "    chID=0\n",
    "    dta=np.transpose(wd[eventID][chID])\n",
    "    dta[0]=dta[0]-dta[0][-1]\n",
    "    plt.scatter(dta[0][start:end],dta[1][start:end],s=2)\n",
    "#     plt.xlim([start,end])\n",
    "# plt.ylim([1000,34000])"
   ]
  },
  {
   "cell_type": "markdown",
   "metadata": {},
   "source": [
    "### **Integrate the last 'n' bins**"
   ]
  },
  {
   "cell_type": "markdown",
   "metadata": {},
   "source": [
    "    The bin to start integration"
   ]
  },
  {
   "cell_type": "code",
   "execution_count": 16,
   "metadata": {},
   "outputs": [],
   "source": [
    "start_bin=-100"
   ]
  },
  {
   "cell_type": "markdown",
   "metadata": {},
   "source": [
    "    The bin range for the offset evaluation"
   ]
  },
  {
   "cell_type": "code",
   "execution_count": 17,
   "metadata": {},
   "outputs": [],
   "source": [
    "offset_s=0\n",
    "offset_e=256"
   ]
  },
  {
   "cell_type": "markdown",
   "metadata": {},
   "source": [
    "    For integrating single event"
   ]
  },
  {
   "cell_type": "code",
   "execution_count": 19,
   "metadata": {},
   "outputs": [
    {
     "name": "stdout",
     "output_type": "stream",
     "text": [
      "-1.43491900599e-08\n"
     ]
    }
   ],
   "source": [
    "eventID=0\n",
    "chID=0\n",
    "dta=np.transpose(wd[eventID][chID])\n",
    "offset_val=np.average(dta[1][offset_s:offset_e])\n",
    "integ=np.trapz(dta[1][start_bin:]-offset_val,dta[0][start_bin:])\n",
    "print(integ/2**15/abs(start_bin))"
   ]
  },
  {
   "cell_type": "markdown",
   "metadata": {},
   "source": [
    "    For integrating out the whole dataset"
   ]
  },
  {
   "cell_type": "code",
   "execution_count": 22,
   "metadata": {
    "collapsed": true,
    "jupyter": {
     "outputs_hidden": true
    }
   },
   "outputs": [
    {
     "name": "stdout",
     "output_type": "stream",
     "text": [
      "('for eventId ', 0, ' integral = ', -0.047019425988322539)\n",
      "('for eventId ', 1, ' integral = ', -0.038428165861564167)\n",
      "('for eventId ', 2, ' integral = ', -0.042457293634254434)\n",
      "('for eventId ', 3, ' integral = ', -0.036060527301591261)\n",
      "('for eventId ', 4, ' integral = ', -0.044345783680958206)\n",
      "('for eventId ', 5, ' integral = ', -0.047979891862609314)\n",
      "('for eventId ', 6, ' integral = ', -0.041396572838752199)\n",
      "('for eventId ', 7, ' integral = ', -0.040694794830116621)\n",
      "('for eventId ', 8, ' integral = ', -0.043356871786613294)\n",
      "('for eventId ', 9, ' integral = ', -0.03841672386275885)\n",
      "('for eventId ', 10, ' integral = ', -0.040707185449131877)\n",
      "('for eventId ', 11, ' integral = ', -0.037856519617438522)\n",
      "('for eventId ', 12, ' integral = ', -0.045599367108712485)\n",
      "('for eventId ', 13, ' integral = ', -0.041518381005802851)\n",
      "('for eventId ', 14, ' integral = ', -0.037847052474004883)\n",
      "('for eventId ', 15, ' integral = ', -0.03956705719807907)\n",
      "('for eventId ', 16, ' integral = ', -0.042954241760472023)\n",
      "('for eventId ', 17, ' integral = ', -0.048655820498634483)\n",
      "('for eventId ', 18, ' integral = ', -0.048945442236195014)\n",
      "('for eventId ', 19, ' integral = ', -0.046536508987469638)\n",
      "('for eventId ', 20, ' integral = ', -0.041923794371986567)\n",
      "('for eventId ', 21, ' integral = ', -0.040289525154477701)\n",
      "('for eventId ', 22, ' integral = ', -0.050595157714875327)\n",
      "('for eventId ', 23, ' integral = ', -0.040895421656460762)\n",
      "('for eventId ', 24, ' integral = ', -0.044578399049538753)\n",
      "('for eventId ', 25, ' integral = ', -0.041165397237246992)\n",
      "('for eventId ', 26, ' integral = ', -0.045543233149608398)\n",
      "('for eventId ', 27, ' integral = ', -0.039480691557336911)\n",
      "('for eventId ', 28, ' integral = ', -0.043320797926830856)\n",
      "('for eventId ', 29, ' integral = ', -0.043487227302195564)\n",
      "('for eventId ', 30, ' integral = ', -0.044885307700356147)\n",
      "('for eventId ', 31, ' integral = ', -0.048320468320250498)\n",
      "('for eventId ', 32, ' integral = ', -0.045291954421818215)\n",
      "('for eventId ', 33, ' integral = ', -0.040611335539180615)\n",
      "('for eventId ', 34, ' integral = ', -0.045021786574956479)\n",
      "('for eventId ', 35, ' integral = ', -0.03451557925701465)\n",
      "('for eventId ', 36, ' integral = ', -0.033884239863883003)\n",
      "('for eventId ', 37, ' integral = ', -0.03575165133066216)\n",
      "('for eventId ', 38, ' integral = ', -0.038658919390528013)\n",
      "('for eventId ', 39, ' integral = ', -0.041821820361427342)\n",
      "('for eventId ', 40, ' integral = ', -0.043695695999463879)\n",
      "('for eventId ', 41, ' integral = ', -0.043507177418205423)\n",
      "('for eventId ', 42, ' integral = ', -0.044706890544516487)\n",
      "('for eventId ', 43, ' integral = ', -0.041373913776520777)\n",
      "('for eventId ', 44, ' integral = ', -0.04837173649883475)\n",
      "('for eventId ', 45, ' integral = ', -0.047773993686158089)\n",
      "('for eventId ', 46, ' integral = ', -0.043396493371733236)\n",
      "('for eventId ', 47, ' integral = ', -0.041557845581445818)\n",
      "('for eventId ', 48, ' integral = ', -0.046844030487131594)\n",
      "('for eventId ', 49, ' integral = ', -0.046404630827274751)\n",
      "('for eventId ', 50, ' integral = ', -0.046544194995549404)\n",
      "('for eventId ', 51, ' integral = ', -0.040503400642930565)\n",
      "('for eventId ', 52, ' integral = ', -0.039042695301377606)\n",
      "('for eventId ', 53, ' integral = ', -0.040830897841768632)\n",
      "('for eventId ', 54, ' integral = ', -0.047905605726661804)\n",
      "('for eventId ', 55, ' integral = ', -0.046156753707482956)\n",
      "('for eventId ', 56, ' integral = ', -0.042552177510827072)\n",
      "('for eventId ', 57, ' integral = ', -0.035945390108047981)\n",
      "('for eventId ', 58, ' integral = ', -0.046955143273533118)\n",
      "('for eventId ', 59, ' integral = ', -0.04986617194752041)\n",
      "('for eventId ', 60, ' integral = ', -0.042915210211891264)\n",
      "('for eventId ', 61, ' integral = ', -0.045709138616660816)\n",
      "('for eventId ', 62, ' integral = ', -0.044241189870813713)\n",
      "('for eventId ', 63, ' integral = ', -0.041200218936907618)\n",
      "('for eventId ', 64, ' integral = ', -0.04822797589302219)\n",
      "('for eventId ', 65, ' integral = ', -0.038378220616571923)\n",
      "('for eventId ', 66, ' integral = ', -0.041082111138112332)\n",
      "('for eventId ', 67, ' integral = ', -0.042461733981622896)\n",
      "('for eventId ', 68, ' integral = ', -0.036659014416088098)\n",
      "('for eventId ', 69, ' integral = ', -0.045977032257493278)\n",
      "('for eventId ', 70, ' integral = ', -0.043084065387550829)\n",
      "('for eventId ', 71, ' integral = ', -0.046899615663096306)\n",
      "('for eventId ', 72, ' integral = ', -0.047995770673330718)\n",
      "('for eventId ', 73, ' integral = ', -0.043683506841518227)\n",
      "('for eventId ', 74, ' integral = ', -0.035071186608901517)\n",
      "('for eventId ', 75, ' integral = ', -0.045605599631417526)\n",
      "('for eventId ', 76, ' integral = ', -0.049414134541923893)\n",
      "('for eventId ', 77, ' integral = ', -0.046466571042746097)\n",
      "('for eventId ', 78, ' integral = ', -0.04396299478143284)\n",
      "('for eventId ', 79, ' integral = ', -0.037952848025555763)\n",
      "('for eventId ', 80, ' integral = ', -0.042031074430291859)\n",
      "('for eventId ', 81, ' integral = ', -0.037978953287149952)\n",
      "('for eventId ', 82, ' integral = ', -0.037584844262029016)\n",
      "('for eventId ', 83, ' integral = ', -0.043340464505909893)\n",
      "('for eventId ', 84, ' integral = ', -0.039478738955692094)\n",
      "('for eventId ', 85, ' integral = ', -0.040863810348925167)\n",
      "('for eventId ', 86, ' integral = ', -0.04632683366142043)\n",
      "('for eventId ', 87, ' integral = ', -0.044503795432148774)\n",
      "('for eventId ', 88, ' integral = ', -0.042891357724618828)\n",
      "('for eventId ', 89, ' integral = ', -0.045529373096532932)\n",
      "('for eventId ', 90, ' integral = ', -0.048120637008021383)\n",
      "('for eventId ', 91, ' integral = ', -0.045457091973226227)\n",
      "('for eventId ', 92, ' integral = ', -0.04577946816634082)\n",
      "('for eventId ', 93, ' integral = ', -0.040012046389741762)\n",
      "('for eventId ', 94, ' integral = ', -0.040879396627657272)\n",
      "('for eventId ', 95, ' integral = ', -0.045961254486424963)\n",
      "('for eventId ', 96, ' integral = ', -0.048272299313305567)\n",
      "('for eventId ', 97, ' integral = ', -0.044570484959321366)\n",
      "('for eventId ', 98, ' integral = ', -0.047626972840126403)\n",
      "('for eventId ', 99, ' integral = ', -0.038114834706349132)\n",
      "('for eventId ', 100, ' integral = ', -0.046689316523952584)\n",
      "('for eventId ', 101, ' integral = ', -0.044813471503390545)\n",
      "('for eventId ', 102, ' integral = ', -0.046616179502803057)\n",
      "('for eventId ', 103, ' integral = ', -0.044852283863352493)\n",
      "('for eventId ', 104, ' integral = ', -0.041998486897380616)\n",
      "('for eventId ', 105, ' integral = ', -0.043369289867904115)\n",
      "('for eventId ', 106, ' integral = ', -0.040251066347447573)\n",
      "('for eventId ', 107, ' integral = ', -0.047836453240437393)\n",
      "('for eventId ', 108, ' integral = ', -0.060428545253243371)\n",
      "('for eventId ', 109, ' integral = ', -0.045173035294640229)\n",
      "('for eventId ', 110, ' integral = ', -0.038302201840426875)\n",
      "('for eventId ', 111, ' integral = ', -0.042028408016552277)\n",
      "('for eventId ', 112, ' integral = ', -0.041560899421513753)\n",
      "('for eventId ', 113, ' integral = ', -0.038936688469286107)\n",
      "('for eventId ', 114, ' integral = ', -0.040606712607894835)\n",
      "('for eventId ', 115, ' integral = ', -0.048828125116905596)\n",
      "('for eventId ', 116, ' integral = ', -0.0353258408218311)\n",
      "('for eventId ', 117, ' integral = ', -0.039642553503643541)\n",
      "('for eventId ', 118, ' integral = ', -0.043680162192389016)\n",
      "('for eventId ', 119, ' integral = ', -0.039643874204727148)\n",
      "('for eventId ', 120, ' integral = ', -0.044616811271012136)\n",
      "('for eventId ', 121, ' integral = ', -0.045199981855571281)\n",
      "('for eventId ', 122, ' integral = ', -0.040652637046576068)\n",
      "('for eventId ', 123, ' integral = ', -0.037521386854650451)\n",
      "('for eventId ', 124, ' integral = ', -0.042225078635780733)\n",
      "('for eventId ', 125, ' integral = ', -0.04453827537990751)\n",
      "('for eventId ', 126, ' integral = ', -0.038688968041822758)\n",
      "('for eventId ', 127, ' integral = ', -0.056753594936778562)\n",
      "('for eventId ', 128, ' integral = ', -0.036115660438542196)\n",
      "('for eventId ', 129, ' integral = ', -0.047996362599900699)\n",
      "('for eventId ', 130, ' integral = ', -0.041043531095063202)\n",
      "('for eventId ', 131, ' integral = ', -0.045760439753315119)\n",
      "('for eventId ', 132, ' integral = ', -0.038987316824727003)\n",
      "('for eventId ', 133, ' integral = ', -0.042084043332329735)\n",
      "('for eventId ', 134, ' integral = ', -0.049245551599859105)\n",
      "('for eventId ', 135, ' integral = ', -0.039823147121964109)\n",
      "('for eventId ', 136, ' integral = ', -0.048639152170082411)\n",
      "('for eventId ', 137, ' integral = ', -0.0451341924516937)\n",
      "('for eventId ', 138, ' integral = ', -0.04445845824093908)\n",
      "('for eventId ', 139, ' integral = ', -0.045582492035058042)\n",
      "('for eventId ', 140, ' integral = ', -0.05082585919135596)\n",
      "('for eventId ', 141, ' integral = ', -0.043574750853757394)\n",
      "('for eventId ', 142, ' integral = ', -0.048090069845085903)\n",
      "('for eventId ', 143, ' integral = ', -0.038141749332040842)\n",
      "('for eventId ', 144, ' integral = ', -0.062934007637288403)\n",
      "('for eventId ', 145, ' integral = ', -0.03955355008876893)\n",
      "('for eventId ', 146, ' integral = ', -0.043304505886956335)\n",
      "('for eventId ', 147, ' integral = ', -0.037277116991407233)\n",
      "('for eventId ', 148, ' integral = ', -0.043563319976927417)\n",
      "('for eventId ', 149, ' integral = ', -0.037770262632089047)\n",
      "('for eventId ', 150, ' integral = ', -0.039175794049867818)\n",
      "('for eventId ', 151, ' integral = ', -0.045948316162864877)\n",
      "('for eventId ', 152, ' integral = ', -0.040542921082823646)\n",
      "('for eventId ', 153, ' integral = ', -0.040330018901048259)\n",
      "('for eventId ', 154, ' integral = ', -0.045127737801819112)\n",
      "('for eventId ', 155, ' integral = ', -0.03943947275628501)\n",
      "('for eventId ', 156, ' integral = ', -0.046666776793383491)\n",
      "('for eventId ', 157, ' integral = ', -0.040740394638824284)\n",
      "('for eventId ', 158, ' integral = ', -0.046765220682665642)\n",
      "('for eventId ', 159, ' integral = ', -0.043665678377588613)\n",
      "('for eventId ', 160, ' integral = ', -0.042722404132383929)\n",
      "('for eventId ', 161, ' integral = ', -0.048012344262019724)\n",
      "('for eventId ', 162, ' integral = ', -0.04432998125635379)\n",
      "('for eventId ', 163, ' integral = ', -0.047379510266532865)\n",
      "('for eventId ', 164, ' integral = ', -0.040753349102057079)\n",
      "('for eventId ', 165, ' integral = ', -0.047489670218275215)\n",
      "('for eventId ', 166, ' integral = ', -0.046709885948726715)\n",
      "('for eventId ', 167, ' integral = ', -0.042558440916900864)\n",
      "('for eventId ', 168, ' integral = ', -0.036283307645277318)\n",
      "('for eventId ', 169, ' integral = ', -0.041798224985269528)\n",
      "('for eventId ', 170, ' integral = ', -0.036641673590571244)\n",
      "('for eventId ', 171, ' integral = ', -0.043743518854940433)\n",
      "('for eventId ', 172, ' integral = ', -0.045465309744702864)\n",
      "('for eventId ', 173, ' integral = ', -0.043225125561393352)\n",
      "('for eventId ', 174, ' integral = ', -0.046713325582849574)\n",
      "('for eventId ', 175, ' integral = ', -0.044459596206404495)\n",
      "('for eventId ', 176, ' integral = ', -0.049798001868135877)\n",
      "('for eventId ', 177, ' integral = ', -0.034502606413869152)\n",
      "('for eventId ', 178, ' integral = ', -0.042019261920782647)\n",
      "('for eventId ', 179, ' integral = ', -0.046310799005540026)\n",
      "('for eventId ', 180, ' integral = ', -0.043817624257949994)\n",
      "('for eventId ', 181, ' integral = ', -0.038141969131918696)\n",
      "('for eventId ', 182, ' integral = ', -0.047341577112391064)\n",
      "('for eventId ', 183, ' integral = ', -0.05172667843828016)\n",
      "('for eventId ', 184, ' integral = ', -0.04040997623197029)\n",
      "('for eventId ', 185, ' integral = ', -0.04161928383307556)\n",
      "('for eventId ', 186, ' integral = ', -0.043090568562655029)\n",
      "('for eventId ', 187, ' integral = ', -0.044722054614418916)\n",
      "('for eventId ', 188, ' integral = ', -0.045860782320858107)\n",
      "('for eventId ', 189, ' integral = ', -0.042625836490846059)\n",
      "('for eventId ', 190, ' integral = ', -0.049548846063043772)\n",
      "('for eventId ', 191, ' integral = ', -0.039684912033853159)\n",
      "('for eventId ', 192, ' integral = ', -0.045266576854342322)\n",
      "('for eventId ', 193, ' integral = ', -0.037405289673522191)\n",
      "('for eventId ', 194, ' integral = ', -0.035434026955270426)\n",
      "('for eventId ', 195, ' integral = ', -0.04226709330768319)\n",
      "('for eventId ', 196, ' integral = ', -0.043138822465283333)\n",
      "('for eventId ', 197, ' integral = ', -0.038319737877666071)\n",
      "('for eventId ', 198, ' integral = ', -0.034856762601593871)\n",
      "('for eventId ', 199, ' integral = ', -0.046783136539523262)\n",
      "('for eventId ', 200, ' integral = ', -0.046313688966167277)\n"
     ]
    }
   ],
   "source": [
    "integrals=[]\n",
    "for i in range(len(wd)):\n",
    "    eventID=i\n",
    "    chID=0\n",
    "    dta=np.transpose(wd[eventID][chID])\n",
    "    offset_val=np.average(dta[1][offset_s:offset_e])\n",
    "    integ=np.trapz(dta[1][start_bin:]-offset_val,dta[0][start_bin:])\n",
    "    integrals.append(integ)\n",
    "    print(\"for eventId \",eventID,\" integral = \",integ)    "
   ]
  },
  {
   "cell_type": "markdown",
   "metadata": {},
   "source": [
    "## **Histogram**"
   ]
  },
  {
   "cell_type": "code",
   "execution_count": 24,
   "metadata": {},
   "outputs": [
    {
     "data": {
      "image/png": "[encoded data removed]",
      "text/plain": [
       "<Figure size 432x288 with 1 Axes>"
      ]
     },
     "metadata": {
      "needs_background": "light"
     },
     "output_type": "display_data"
    }
   ],
   "source": [
    "a=plt.hist(integrals,bins=20)"
   ]
  },
  {
   "cell_type": "markdown",
   "metadata": {},
   "source": [
    "## **For larger datafiles**"
   ]
  },
  {
   "cell_type": "code",
   "execution_count": 54,
   "metadata": {},
   "outputs": [],
   "source": [
    "fname=\"../data/pedrun1.dat\"\n",
    "# fname=\"../data/04feb2020/data3.dat\"\n",
    "integ_savename=fname[:-4]+\"_integrals.txt\"\n",
    "figsavename=fname[:-4]+\"_hist.png\"\n",
    "SAVE_DATA=True\n",
    "max_evntID=10000"
   ]
  },
  {
   "cell_type": "code",
   "execution_count": 55,
   "metadata": {},
   "outputs": [],
   "source": [
    "nstep=1000\n",
    "start_bin=-512\n",
    "offset_s=0\n",
    "offset_e=256"
   ]
  },
  {
   "cell_type": "code",
   "execution_count": 56,
   "metadata": {},
   "outputs": [
    {
     "name": "stdout",
     "output_type": "stream",
     "text": [
      "doing for eventIDs   0  to  1000\n",
      "(62, ' MB occupied')\n",
      "\t for eventId  0  integral =  -0.0552285418596\n",
      "\t for eventId  500  integral =  -0.0637792313184\n",
      "\t for eventId  1000  integral =  -0.0761229310243\n",
      "integrals saved at :  ../data/pedrun1_integrals.txt\n",
      "dt =  5.525443  estimated  time left =  49.728987  s\n",
      "\n",
      "doing for eventIDs   1000  to  2000\n",
      "(62, ' MB occupied')\n",
      "\t for eventId  0  integral =  -0.0761229310243\n",
      "\t for eventId  500  integral =  -0.0673979785336\n",
      "\t for eventId  1000  integral =  -0.076087555819\n",
      "integrals saved at :  ../data/pedrun1_integrals.txt\n",
      "dt =  5.529952  estimated  time left =  44.239616  s\n",
      "\n",
      "doing for eventIDs   2000  to  3000\n",
      "(62, ' MB occupied')\n",
      "\t for eventId  0  integral =  -0.076087555819\n",
      "\t for eventId  500  integral =  -0.0420090065577\n",
      "\t for eventId  1000  integral =  -0.0869279830903\n",
      "integrals saved at :  ../data/pedrun1_integrals.txt\n",
      "dt =  5.512116  estimated  time left =  38.584812  s\n",
      "\n",
      "doing for eventIDs   3000  to  4000\n",
      "(62, ' MB occupied')\n",
      "\t for eventId  0  integral =  -0.0869279830903\n",
      "\t for eventId  500  integral =  -0.0329518241964\n",
      "\t for eventId  1000  integral =  -0.0815036624799\n",
      "integrals saved at :  ../data/pedrun1_integrals.txt\n",
      "dt =  5.703668  estimated  time left =  34.222008  s\n",
      "\n",
      "doing for eventIDs   4000  to  5000\n",
      "(62, ' MB occupied')\n",
      "\t for eventId  0  integral =  -0.0815036624799\n",
      "\t for eventId  500  integral =  -0.0695973251114\n",
      "\t for eventId  1000  integral =  -0.0522680762173\n",
      "integrals saved at :  ../data/pedrun1_integrals.txt\n",
      "dt =  5.554959  estimated  time left =  27.774795  s\n",
      "\n",
      "doing for eventIDs   5000  to  6000\n",
      "(62, ' MB occupied')\n",
      "\t for eventId  0  integral =  -0.0522680762173\n",
      "\t for eventId  500  integral =  -0.045581007403\n",
      "\t for eventId  1000  integral =  -0.0664671077606\n",
      "integrals saved at :  ../data/pedrun1_integrals.txt\n",
      "dt =  5.639513  estimated  time left =  22.558052  s\n",
      "\n",
      "doing for eventIDs   6000  to  7000\n",
      "(62, ' MB occupied')\n",
      "\t for eventId  0  integral =  -0.0664671077606\n",
      "\t for eventId  500  integral =  -0.0778528289238\n",
      "\t for eventId  1000  integral =  -0.0825075179195\n",
      "integrals saved at :  ../data/pedrun1_integrals.txt\n",
      "dt =  5.574702  estimated  time left =  16.724106  s\n",
      "\n",
      "doing for eventIDs   7000  to  8000\n",
      "(62, ' MB occupied')\n",
      "\t for eventId  0  integral =  -0.0825075179195\n",
      "\t for eventId  500  integral =  -0.0847778228856\n",
      "\t for eventId  1000  integral =  -0.0440506719156\n",
      "integrals saved at :  ../data/pedrun1_integrals.txt\n",
      "dt =  5.249504  estimated  time left =  10.499008  s\n",
      "\n",
      "doing for eventIDs   8000  to  9000\n",
      "(62, ' MB occupied')\n",
      "\t for eventId  0  integral =  -0.0440506719156\n",
      "\t for eventId  500  integral =  -0.0865284657755\n",
      "\t for eventId  1000  integral =  -0.0523185247667\n",
      "integrals saved at :  ../data/pedrun1_integrals.txt\n",
      "dt =  5.244445  estimated  time left =  5.244445  s\n",
      "\n",
      "doing for eventIDs   9000  to  10000\n",
      "(62, ' MB occupied')\n",
      "\t for eventId  0  integral =  -0.0523185247667\n",
      "\t for eventId  500  integral =  -0.0516134834068\n",
      "\t for eventId  1000  integral =  0.0\n",
      "integrals saved at :  ../data/pedrun1_integrals.txt\n",
      "dt =  5.038755  estimated  time left =  0.0  s\n",
      "\n",
      "DONE !!\n"
     ]
    }
   ],
   "source": [
    "n=0\n",
    "integrals=[]\n",
    "if SAVE_DATA:\n",
    "    f=open(integ_savename,'w')\n",
    "    f.close()\n",
    "while(n<max_evntID):\n",
    "    tic=time.clock()\n",
    "    print \"doing for eventIDs  \",n,\" to \",n+nstep\n",
    "    wd=drs.get_events(fname,n,n+nstep)\n",
    "    for i in range(len(wd)):\n",
    "        eventID=i\n",
    "        chID=0\n",
    "        dta=np.transpose(wd[eventID][chID])\n",
    "        offset_val=np.average(dta[1][offset_s:offset_e])\n",
    "        integ=np.trapz(dta[1][start_bin:]-offset_val,dta[0][start_bin:])\n",
    "        integrals.append(integ)\n",
    "        if i%500==0:\n",
    "            print \"\\t for eventId \",eventID,\" integral = \",integ\n",
    "    if SAVE_DATA:\n",
    "        f=open(integ_savename,'a')\n",
    "        for i in range(nstep):\n",
    "            f.write(str(i+n)+\",\"+str(integrals[n+i])+\"\\n\")\n",
    "        f.close()\n",
    "        print \"integrals saved at : \",integ_savename\n",
    "    n+=nstep\n",
    "    toc=time.clock()\n",
    "    print \"dt = \",toc-tic,\" estimated  time left = \", (toc-tic)*(max_evntID-n)/nstep ,\" s\\n\"\n",
    "integrals=np.array(integrals)   \n",
    "print \"DONE !!\" "
   ]
  },
  {
   "cell_type": "markdown",
   "metadata": {},
   "source": [
    "####  **save the integrals**"
   ]
  },
  {
   "cell_type": "code",
   "execution_count": 10,
   "metadata": {},
   "outputs": [
    {
     "name": "stdout",
     "output_type": "stream",
     "text": [
      "integrals saved at :  ../data/pedrun1_integrals.txt\n"
     ]
    }
   ],
   "source": [
    "fsavename=fname[:-4]+\"_integrals.txt\"\n",
    "f=open(fsavename,'w')\n",
    "for i in range(len(integrals)):\n",
    "    f.write(str(i)+\",\"+str(integrals[i])+\"\\n\")\n",
    "f.close()\n",
    "print \"integrals saved at : \",fsavename"
   ]
  },
  {
   "cell_type": "markdown",
   "metadata": {},
   "source": [
    "### **Histogram**"
   ]
  },
  {
   "cell_type": "code",
   "execution_count": 60,
   "metadata": {},
   "outputs": [
    {
     "name": "stdout",
     "output_type": "stream",
     "text": [
      "max_integrals = 0.109323723388  min_integrals  0.00164476203278\n",
      "10009 items\n"
     ]
    },
    {
     "data": {
      "image/png": "[encoded data removed]",
      "text/plain": [
       "<Figure size 720x576 with 1 Axes>"
      ]
     },
     "metadata": {
      "needs_background": "light"
     },
     "output_type": "display_data"
    }
   ],
   "source": [
    "negated_integrals=-1*integrals[:-1]\n",
    "print \"max_integrals =\", max(negated_integrals),\" min_integrals \",min(negated_integrals)\n",
    "print len(negated_integrals),\"items\"\n",
    "plt.figure(figsize=(10,8))\n",
    "a=plt.hist(negated_integrals,bins=200)\n",
    "plt.xlabel(\"q*R ( unit : pC ohm )\")\n",
    "plt.ylabel(\"# count\")\n",
    "plt.title(\"Charge * R histogram for pedastal\")\n",
    "if SAVE_DATA:\n",
    "    plt.savefig(figsavename,dpi=600)"
   ]
  }
 ],
 "metadata": {
  "kernelspec": {
   "display_name": "Python 2",
   "language": "python",
   "name": "python2"
  },
  "language_info": {
   "codemirror_mode": {
    "name": "ipython",
    "version": 2
   },
   "file_extension": ".py",
   "mimetype": "text/x-python",
   "name": "python",
   "nbconvert_exporter": "python",
   "pygments_lexer": "ipython2",
   "version": "2.7.12"
  }
 },
 "nbformat": 4,
 "nbformat_minor": 4
}
