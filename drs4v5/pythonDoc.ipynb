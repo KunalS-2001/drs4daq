{
 "cells": [
  {
   "cell_type": "code",
   "execution_count": 5,
   "metadata": {},
   "outputs": [],
   "source": [
    "import matplotlib.pyplot as plt \n",
    "import numpy as np"
   ]
  },
  {
   "cell_type": "code",
   "execution_count": 115,
   "metadata": {},
   "outputs": [
    {
     "name": "stdout",
     "output_type": "stream",
     "text": [
      "2000   :   -33.36393\n",
      "4000   :   -51.208412\n",
      "6000   :   -2.497697\n",
      "8000   :   -34.353639\n",
      "10000   :   -39.521793\n",
      "12000   :   -23.698071\n",
      "14000   :   -74.805899\n",
      "16000   :   -40.796317\n",
      "18000   :   -2.538209\n",
      "20000   :   -39.56788\n",
      "22000   :   -31.920926\n",
      "24000   :   -47.202046\n",
      "26000   :   -46.910279\n"
     ]
    }
   ],
   "source": [
    "f=open('data.txt','r')\n",
    "l=f.readline()\n",
    "timeA,wvA=[],[]\n",
    "energy=[]\n",
    "eid=0;\n",
    "while l:\n",
    "    try:\n",
    "        if \"#Event\" in l:\n",
    "            l=f.readline()\n",
    "            continue\n",
    "        if '!energy' in l:\n",
    "            eid+=1;\n",
    "            item=l[:-1].split(\",\")\n",
    "            energy.append(float(item[1]))\n",
    "            if(eid%2000==0):\n",
    "                print(eid,\"  :  \",energy[-1])\n",
    "            l=f.readline()\n",
    "            continue\n",
    "        if \"#Waveform\" in l:\n",
    "            timeA.append([[],[],[],[]])\n",
    "            wvA.append([[],[],[],[]])\n",
    "            l=f.readline()\n",
    "            continue\n",
    "        \n",
    "        item=l[:-1].split(\",\")\n",
    "        for j in range(4)  :\n",
    "#             print(\"here\",timeA[-1][j])\n",
    "            timeA[-1][j].append(float(item[2*j]))\n",
    "            wvA[-1][j].append(float(item[2*j+1]))\n",
    "        l=f.readline()\n",
    "    except:\n",
    "        print(\"err : \",l)\n",
    "        break\n",
    "f.close()\n",
    "energy=np.array(energy)\n",
    "wvA=np.array(wvA)\n",
    "timeA=np.array(timeA)"
   ]
  },
  {
   "cell_type": "code",
   "execution_count": 116,
   "metadata": {},
   "outputs": [
    {
     "data": {
      "image/png": "[encoded data removed]",
      "text/plain": [
       "<matplotlib.figure.Figure at 0x7fea250ce4a8>"
      ]
     },
     "metadata": {
      "needs_background": "light"
     },
     "output_type": "display_data"
    }
   ],
   "source": [
    "n=0\n",
    "col=['r','b','g','k']\n",
    "for j in range(4):\n",
    "#     if j==2: \n",
    "#         continue\n",
    "    plt.scatter(timeA[n][j],wvA[n][j]+200*j,s=2,c=col[j])"
   ]
  },
  {
   "cell_type": "code",
   "execution_count": 118,
   "metadata": {},
   "outputs": [
    {
     "data": {
      "text/plain": [
       "0.0"
      ]
     },
     "execution_count": 118,
     "metadata": {},
     "output_type": "execute_result"
    }
   ],
   "source": [
    "np.sum(wvA[n][chid][start:end])"
   ]
  },
  {
   "cell_type": "code",
   "execution_count": 120,
   "metadata": {},
   "outputs": [
    {
     "name": "stdout",
     "output_type": "stream",
     "text": [
      "-38.727142\n"
     ]
    },
    {
     "data": {
      "image/png": "[encoded data removed]",
      "text/plain": [
       "<matplotlib.figure.Figure at 0x7fea2e3fa9b0>"
      ]
     },
     "metadata": {
      "needs_background": "light"
     },
     "output_type": "display_data"
    }
   ],
   "source": [
    "plt.figure()\n",
    "n=3\n",
    "start=100\n",
    "end=300\n",
    "chid=2\n",
    "plt.scatter(timeA[n][chid][start:end],wvA[n][chid][start:end],s=2,c=col[chid])\n",
    "print(timeA[n][chid][start]-timeA[n][chid][end-1])"
   ]
  },
  {
   "cell_type": "code",
   "execution_count": 121,
   "metadata": {},
   "outputs": [
    {
     "ename": "TypeError",
     "evalue": "'float' object cannot be interpreted as an integer",
     "output_type": "error",
     "traceback": [
      "\u001b[0;31m---------------------------------------------------------------------------\u001b[0m",
      "\u001b[0;31mTypeError\u001b[0m                                 Traceback (most recent call last)",
      "\u001b[0;32m<ipython-input-121-e638dbe49a88>\u001b[0m in \u001b[0;36m<module>\u001b[0;34m\u001b[0m\n\u001b[0;32m----> 1\u001b[0;31m \u001b[0;32mfor\u001b[0m \u001b[0mn\u001b[0m \u001b[0;32min\u001b[0m \u001b[0mrange\u001b[0m\u001b[0;34m(\u001b[0m\u001b[0;36m5.2\u001b[0m\u001b[0;34m)\u001b[0m\u001b[0;34m:\u001b[0m\u001b[0;34m\u001b[0m\u001b[0;34m\u001b[0m\u001b[0m\n\u001b[0m\u001b[1;32m      2\u001b[0m     \u001b[0mplt\u001b[0m\u001b[0;34m.\u001b[0m\u001b[0mfigure\u001b[0m\u001b[0;34m(\u001b[0m\u001b[0;34m)\u001b[0m\u001b[0;34m\u001b[0m\u001b[0;34m\u001b[0m\u001b[0m\n\u001b[1;32m      3\u001b[0m     \u001b[0;32mfor\u001b[0m \u001b[0mj\u001b[0m \u001b[0;32min\u001b[0m \u001b[0mrange\u001b[0m\u001b[0;34m(\u001b[0m\u001b[0;36m4\u001b[0m\u001b[0;34m)\u001b[0m\u001b[0;34m:\u001b[0m\u001b[0;34m\u001b[0m\u001b[0;34m\u001b[0m\u001b[0m\n\u001b[1;32m      4\u001b[0m \u001b[0;31m#         if j==2:\u001b[0m\u001b[0;34m\u001b[0m\u001b[0;34m\u001b[0m\u001b[0;34m\u001b[0m\u001b[0m\n\u001b[1;32m      5\u001b[0m \u001b[0;31m#             continue\u001b[0m\u001b[0;34m\u001b[0m\u001b[0;34m\u001b[0m\u001b[0;34m\u001b[0m\u001b[0m\n",
      "\u001b[0;31mTypeError\u001b[0m: 'float' object cannot be interpreted as an integer"
     ]
    }
   ],
   "source": [
    "for n in range(5.2):\n",
    "    plt.figure()\n",
    "    for j in range(4):\n",
    "#         if j==2:\n",
    "#             continue\n",
    "#         print(n,j)\n",
    "        plt.scatter(timeA[n][j],wvA[n][j],s=2,c=col[j])"
   ]
  },
  {
   "cell_type": "code",
   "execution_count": 127,
   "metadata": {},
   "outputs": [
    {
     "data": {
      "image/png": "[encoded data removed]",
      "text/plain": [
       "<matplotlib.figure.Figure at 0x7fea28f3f9e8>"
      ]
     },
     "metadata": {
      "needs_background": "light"
     },
     "output_type": "display_data"
    }
   ],
   "source": [
    "x=plt.hist(-1*energy,bins=200,range=(-5,150))"
   ]
  }
 ],
 "metadata": {
  "kernelspec": {
   "display_name": "Python 3",
   "language": "python",
   "name": "python3"
  },
  "language_info": {
   "codemirror_mode": {
    "name": "ipython",
    "version": 3
   },
   "file_extension": ".py",
   "mimetype": "text/x-python",
   "name": "python",
   "nbconvert_exporter": "python",
   "pygments_lexer": "ipython3",
   "version": "3.6.9"
  }
 },
 "nbformat": 4,
 "nbformat_minor": 2
}
